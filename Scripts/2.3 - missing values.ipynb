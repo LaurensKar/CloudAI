{
 "cells": [
  {
   "attachments": {},
   "cell_type": "markdown",
   "metadata": {},
   "source": [
    "# Imputing values\n",
    "\n",
    "Imputation is a tricky thing to do. You sometimes need to when not enough data is available, but you are still simply filling in columns by yourself.\n",
    "\n",
    "The following notebook gives an example of a simple imputation and a small improvement.\n",
    "\n",
    "[The example was stolen here.](https://towardsdatascience.com/pandas-tricks-for-imputing-missing-data-63da3d14c0d6)"
   ]
  },
  {
   "cell_type": "code",
   "execution_count": null,
   "metadata": {},
   "outputs": [],
   "source": [
    "import pandas as pd\n",
    "import matplotlib.pyplot as plt\n",
    "\n",
    "\n",
    "df_base = pd.read_csv(\"files/winemag-data_first150k.csv\", delimiter=\";\")\n",
    "df_mean = df_base.copy()\n",
    "print(df_mean.head())"
   ]
  },
  {
   "attachments": {},
   "cell_type": "markdown",
   "metadata": {},
   "source": [
    "And where are the missing values?"
   ]
  },
  {
   "cell_type": "code",
   "execution_count": null,
   "metadata": {},
   "outputs": [],
   "source": [
    "df_mean.info()"
   ]
  },
  {
   "attachments": {},
   "cell_type": "markdown",
   "metadata": {},
   "source": [
    "This shows you which columns have the most values. You can immediatly see that \"region_2\" is pretty empty. There is another way that will simply show the number of na's."
   ]
  },
  {
   "cell_type": "code",
   "execution_count": null,
   "metadata": {},
   "outputs": [],
   "source": [
    "df_mean.isnull().sum()"
   ]
  },
  {
   "attachments": {},
   "cell_type": "markdown",
   "metadata": {},
   "source": [
    "Let's focus on price. The easiest way would be to fill in the price using the mean price..."
   ]
  },
  {
   "cell_type": "code",
   "execution_count": null,
   "metadata": {},
   "outputs": [],
   "source": [
    "df_mean['price'].fillna(df_mean['price'].mean(), inplace = True)\n",
    "df_mean.isnull().sum()"
   ]
  },
  {
   "attachments": {},
   "cell_type": "markdown",
   "metadata": {},
   "source": [
    "The data has been filled in, but not very accurately. It would be better to estimate the price based on some other data, like country. Wouldn't it be better to say that wines of which we have no price are priced the same as the average of that country?\n",
    "\n",
    "We'll make a fresh copy of the starting dataframe and look for all countries in that dataframe."
   ]
  },
  {
   "cell_type": "code",
   "execution_count": null,
   "metadata": {},
   "outputs": [],
   "source": [
    "df_base.copy()\n",
    "\n",
    "from collections import Counter\n",
    "Counter(df_base['country'])"
   ]
  },
  {
   "attachments": {},
   "cell_type": "markdown",
   "metadata": {},
   "source": [
    "First problem: two wines don't have a country. But do they have a price?"
   ]
  },
  {
   "cell_type": "code",
   "execution_count": null,
   "metadata": {},
   "outputs": [],
   "source": [
    "\n",
    "df_base[df_base['country'].isna()]"
   ]
  },
  {
   "attachments": {},
   "cell_type": "markdown",
   "metadata": {},
   "source": [
    "Yes, so no worries there.\n",
    "\n",
    "Next, let's loop over all countries, create a dataframe of just that country and use fillna() to fill in the missing values with the mean value _of that country_."
   ]
  },
  {
   "cell_type": "code",
   "execution_count": null,
   "metadata": {},
   "outputs": [],
   "source": [
    "frames = []\n",
    "for i in list(set(df_base['country'])):\n",
    "    df_country = df_base[df_base['country'] == i].copy()\n",
    "    df_country['price'].fillna(df_country['price'].mean(),inplace = True)\n",
    "    frames.append(df_country)\n",
    "    final_df = pd.concat(frames)\n",
    "    \n",
    "print(final_df.isnull().sum())"
   ]
  },
  {
   "attachments": {},
   "cell_type": "markdown",
   "metadata": {},
   "source": [
    "Closing thought: is it a good idea to use this dataset to predict prices now? And if we do, what correlation will we likely find?"
   ]
  }
 ],
 "metadata": {
  "kernelspec": {
   "display_name": "venv",
   "language": "python",
   "name": "python3"
  },
  "language_info": {
   "codemirror_mode": {
    "name": "ipython",
    "version": 3
   },
   "file_extension": ".py",
   "mimetype": "text/x-python",
   "name": "python",
   "nbconvert_exporter": "python",
   "pygments_lexer": "ipython3",
   "version": "3.11.5"
  },
  "orig_nbformat": 4
 },
 "nbformat": 4,
 "nbformat_minor": 2
}
