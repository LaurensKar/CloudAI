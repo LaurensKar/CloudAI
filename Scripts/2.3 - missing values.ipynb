{
 "cells": [
  {
   "attachments": {},
   "cell_type": "markdown",
   "metadata": {},
   "source": [
    "# Imputing values\n",
    "\n",
    "Imputation is a tricky thing to do. You sometimes need to when not enough data is available, but you are still simply filling in columns by yourself.\n",
    "\n",
    "The following notebook gives an example of a simple imputation and a small improvement.\n",
    "\n",
    "[The example was stolen here.](https://towardsdatascience.com/pandas-tricks-for-imputing-missing-data-63da3d14c0d6)"
   ]
  },
  {
   "cell_type": "code",
   "execution_count": 37,
   "metadata": {},
   "outputs": [
    {
     "name": "stdout",
     "output_type": "stream",
     "text": [
      "  country                           designation  points  price   \n",
      "0      US                     Martha's Vineyard    96.0  235.0  \\\n",
      "1   Spain  Carodorum Selección Especial Reserva    96.0  110.0   \n",
      "2      US         Special Selected Late Harvest    96.0   90.0   \n",
      "3      US                               Reserve    96.0   65.0   \n",
      "4  France                            La Brûlade    95.0   66.0   \n",
      "\n",
      "         province           region_1           region_2             variety   \n",
      "0      California        Napa Valley               Napa  Cabernet Sauvignon  \\\n",
      "1  Northern Spain               Toro                NaN       Tinta de Toro   \n",
      "2      California     Knights Valley             Sonoma     Sauvignon Blanc   \n",
      "3          Oregon  Willamette Valley  Willamette Valley          Pinot Noir   \n",
      "4        Provence             Bandol                NaN  Provence red blend   \n",
      "\n",
      "                    winery  last_year_points  \n",
      "0                    Heitz                94  \n",
      "1  Bodega Carmen Rodríguez                92  \n",
      "2                 Macauley               100  \n",
      "3                    Ponzi                94  \n",
      "4     Domaine de la Bégude                94  \n"
     ]
    }
   ],
   "source": [
    "import pandas as pd\n",
    "import matplotlib.pyplot as plt\n",
    "\n",
    "\n",
    "df_base = pd.read_csv(\"files/winemag-data_first150k.csv\", delimiter=\";\")\n",
    "df_mean = df_base.copy()\n",
    "print(df_mean.head())"
   ]
  },
  {
   "attachments": {},
   "cell_type": "markdown",
   "metadata": {},
   "source": [
    "And where are the missing values?"
   ]
  },
  {
   "cell_type": "code",
   "execution_count": 38,
   "metadata": {},
   "outputs": [
    {
     "name": "stdout",
     "output_type": "stream",
     "text": [
      "<class 'pandas.core.frame.DataFrame'>\n",
      "RangeIndex: 144037 entries, 0 to 144036\n",
      "Data columns (total 10 columns):\n",
      " #   Column            Non-Null Count   Dtype  \n",
      "---  ------            --------------   -----  \n",
      " 0   country           144035 non-null  object \n",
      " 1   designation       100211 non-null  object \n",
      " 2   points            144032 non-null  float64\n",
      " 3   price             130641 non-null  float64\n",
      " 4   province          144030 non-null  object \n",
      " 5   region_1          120192 non-null  object \n",
      " 6   region_2          58378 non-null   object \n",
      " 7   variety           144032 non-null  object \n",
      " 8   winery            144032 non-null  object \n",
      " 9   last_year_points  144037 non-null  int64  \n",
      "dtypes: float64(2), int64(1), object(7)\n",
      "memory usage: 11.0+ MB\n"
     ]
    }
   ],
   "source": [
    "df_mean.info()"
   ]
  },
  {
   "attachments": {},
   "cell_type": "markdown",
   "metadata": {},
   "source": [
    "This shows you which columns have the most values. You can immediatly see that \"region_2\" is pretty empty. There is another way that will simply show the number of na's."
   ]
  },
  {
   "cell_type": "code",
   "execution_count": 39,
   "metadata": {},
   "outputs": [
    {
     "data": {
      "text/plain": [
       "country                 2\n",
       "designation         43826\n",
       "points                  5\n",
       "price               13396\n",
       "province                7\n",
       "region_1            23845\n",
       "region_2            85659\n",
       "variety                 5\n",
       "winery                  5\n",
       "last_year_points        0\n",
       "dtype: int64"
      ]
     },
     "execution_count": 39,
     "metadata": {},
     "output_type": "execute_result"
    }
   ],
   "source": [
    "df_mean.isnull().sum()"
   ]
  },
  {
   "attachments": {},
   "cell_type": "markdown",
   "metadata": {},
   "source": [
    "Let's focus on price. The easiest way would be to fill in the price using the mean price..."
   ]
  },
  {
   "cell_type": "code",
   "execution_count": 40,
   "metadata": {},
   "outputs": [
    {
     "data": {
      "text/plain": [
       "country                 2\n",
       "designation         43826\n",
       "points                  5\n",
       "price                   0\n",
       "province                7\n",
       "region_1            23845\n",
       "region_2            85659\n",
       "variety                 5\n",
       "winery                  5\n",
       "last_year_points        0\n",
       "dtype: int64"
      ]
     },
     "execution_count": 40,
     "metadata": {},
     "output_type": "execute_result"
    }
   ],
   "source": [
    "df_mean['price'].fillna(df_mean['price'].mean(), inplace = True)\n",
    "df_mean.isnull().sum()"
   ]
  },
  {
   "attachments": {},
   "cell_type": "markdown",
   "metadata": {},
   "source": [
    "The data has been filled in, but not very accurately. It would be better to estimate the price based on some other data, like country. Wouldn't it be better to say that wines of which we have no price are priced the same as the average of that country?\n",
    "\n",
    "We'll make a fresh copy of the starting dataframe and look for all countries in that dataframe."
   ]
  },
  {
   "cell_type": "code",
   "execution_count": 41,
   "metadata": {},
   "outputs": [
    {
     "data": {
      "text/plain": [
       "Counter({'US': 59796,\n",
       "         'Spain': 7402,\n",
       "         'France': 20527,\n",
       "         'Italy': 22967,\n",
       "         'New Zealand': 3149,\n",
       "         'Bulgaria': 73,\n",
       "         'Argentina': 4978,\n",
       "         'Australia': 4496,\n",
       "         'Portugal': 5251,\n",
       "         'Israel': 587,\n",
       "         'South Africa': 2140,\n",
       "         'Greece': 868,\n",
       "         'Chile': 5264,\n",
       "         'Morocco': 12,\n",
       "         'Romania': 138,\n",
       "         'Germany': 2371,\n",
       "         'Canada': 184,\n",
       "         'Moldova': 71,\n",
       "         'Hungary': 231,\n",
       "         'Austria': 2935,\n",
       "         'Croatia': 87,\n",
       "         'Slovenia': 94,\n",
       "         nan: 2,\n",
       "         'India': 8,\n",
       "         'Turkey': 51,\n",
       "         'Macedonia': 16,\n",
       "         'Lebanon': 37,\n",
       "         'Serbia': 14,\n",
       "         'Uruguay': 75,\n",
       "         'Switzerland': 4,\n",
       "         'Albania': 2,\n",
       "         'Bosnia and Herzegovina': 4,\n",
       "         'Brazil': 23,\n",
       "         'Cyprus': 23,\n",
       "         'Lithuania': 8,\n",
       "         'Japan': 2,\n",
       "         'China': 3,\n",
       "         'South Korea': 4,\n",
       "         'Ukraine': 5,\n",
       "         'England': 9,\n",
       "         'Mexico': 57,\n",
       "         'Georgia': 43,\n",
       "         'Montenegro': 2,\n",
       "         'Luxembourg': 9,\n",
       "         'Slovakia': 3,\n",
       "         'Czech Republic': 6,\n",
       "         'Egypt': 3,\n",
       "         'Tunisia': 2,\n",
       "         'US-France': 1})"
      ]
     },
     "execution_count": 41,
     "metadata": {},
     "output_type": "execute_result"
    }
   ],
   "source": [
    "df_base.copy()\n",
    "\n",
    "from collections import Counter\n",
    "Counter(df_base['country'])"
   ]
  },
  {
   "attachments": {},
   "cell_type": "markdown",
   "metadata": {},
   "source": [
    "First problem: two wines don't have a country. But do they have a price?"
   ]
  },
  {
   "cell_type": "code",
   "execution_count": 42,
   "metadata": {},
   "outputs": [
    {
     "data": {
      "text/html": [
       "<div>\n",
       "<style scoped>\n",
       "    .dataframe tbody tr th:only-of-type {\n",
       "        vertical-align: middle;\n",
       "    }\n",
       "\n",
       "    .dataframe tbody tr th {\n",
       "        vertical-align: top;\n",
       "    }\n",
       "\n",
       "    .dataframe thead th {\n",
       "        text-align: right;\n",
       "    }\n",
       "</style>\n",
       "<table border=\"1\" class=\"dataframe\">\n",
       "  <thead>\n",
       "    <tr style=\"text-align: right;\">\n",
       "      <th></th>\n",
       "      <th>country</th>\n",
       "      <th>designation</th>\n",
       "      <th>points</th>\n",
       "      <th>price</th>\n",
       "      <th>province</th>\n",
       "      <th>region_1</th>\n",
       "      <th>region_2</th>\n",
       "      <th>variety</th>\n",
       "      <th>winery</th>\n",
       "      <th>last_year_points</th>\n",
       "    </tr>\n",
       "  </thead>\n",
       "  <tbody>\n",
       "    <tr>\n",
       "      <th>1124</th>\n",
       "      <td>NaN</td>\n",
       "      <td>Askitikos</td>\n",
       "      <td>90.0</td>\n",
       "      <td>17.0</td>\n",
       "      <td>NaN</td>\n",
       "      <td>NaN</td>\n",
       "      <td>NaN</td>\n",
       "      <td>Assyrtiko</td>\n",
       "      <td>Tsililis</td>\n",
       "      <td>88</td>\n",
       "    </tr>\n",
       "    <tr>\n",
       "      <th>1427</th>\n",
       "      <td>NaN</td>\n",
       "      <td>Shah</td>\n",
       "      <td>90.0</td>\n",
       "      <td>30.0</td>\n",
       "      <td>NaN</td>\n",
       "      <td>NaN</td>\n",
       "      <td>NaN</td>\n",
       "      <td>Red Blend</td>\n",
       "      <td>Büyülübağ</td>\n",
       "      <td>100</td>\n",
       "    </tr>\n",
       "  </tbody>\n",
       "</table>\n",
       "</div>"
      ],
      "text/plain": [
       "     country designation  points  price province region_1 region_2    variety   \n",
       "1124     NaN   Askitikos    90.0   17.0      NaN      NaN      NaN  Assyrtiko  \\\n",
       "1427     NaN        Shah    90.0   30.0      NaN      NaN      NaN  Red Blend   \n",
       "\n",
       "         winery  last_year_points  \n",
       "1124   Tsililis                88  \n",
       "1427  Büyülübağ               100  "
      ]
     },
     "execution_count": 42,
     "metadata": {},
     "output_type": "execute_result"
    }
   ],
   "source": [
    "\n",
    "df_base[df_base['country'].isna()]"
   ]
  },
  {
   "attachments": {},
   "cell_type": "markdown",
   "metadata": {},
   "source": [
    "Yes, so no worries there.\n",
    "\n",
    "Next, let's loop over all countries, create a dataframe of just that country and use fillna() to fill in the missing values with the mean value _of that country_."
   ]
  },
  {
   "cell_type": "code",
   "execution_count": 47,
   "metadata": {},
   "outputs": [
    {
     "name": "stdout",
     "output_type": "stream",
     "text": [
      "country                 0\n",
      "designation         43826\n",
      "points                  5\n",
      "price                   0\n",
      "province                7\n",
      "region_1            23845\n",
      "region_2            85659\n",
      "variety                 5\n",
      "winery                  5\n",
      "last_year_points        0\n",
      "dtype: int64\n"
     ]
    }
   ],
   "source": [
    "frames = []\n",
    "for i in list(set(df['country'])):\n",
    "    df_country = df[df['country'] == i].copy()\n",
    "    df_country['price'].fillna(df_country['price'].mean(),inplace = True)\n",
    "    frames.append(df_country)\n",
    "    final_df = pd.concat(frames)\n",
    "    \n",
    "print(final_df.isnull().sum())"
   ]
  },
  {
   "attachments": {},
   "cell_type": "markdown",
   "metadata": {},
   "source": [
    "Closing thought: is it a good idea to use this dataset to predict prices now? And if we do, what correlation will we likely find?"
   ]
  }
 ],
 "metadata": {
  "kernelspec": {
   "display_name": "venv",
   "language": "python",
   "name": "python3"
  },
  "language_info": {
   "codemirror_mode": {
    "name": "ipython",
    "version": 3
   },
   "file_extension": ".py",
   "mimetype": "text/x-python",
   "name": "python",
   "nbconvert_exporter": "python",
   "pygments_lexer": "ipython3",
   "version": "3.11.2"
  },
  "orig_nbformat": 4
 },
 "nbformat": 4,
 "nbformat_minor": 2
}
