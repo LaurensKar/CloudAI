{
 "cells": [
  {
   "attachments": {},
   "cell_type": "markdown",
   "metadata": {},
   "source": [
    "# Student grades\n",
    "\n",
    "At the end of the year we can ask for an excel-sheet containing all grades for all students of ITF (and ACS, and ELO-ICT and the \"WES\", which is \"working and studying\" for people who come to get a degree while still working four days a week). This sheet contains all students, their courses and their grades.\n",
    "\n",
    "Unfortunately, we can't pass this information on. Even more than not following the GDPR (and thus illegal) it would show an appalling lack in tact.\n",
    "\n",
    "Therefore we changed some things\n",
    "- All student ID's (r-numbers) have been changed into an equally long random number\n",
    "- All names have been changed into the names of actors\n",
    "- All grades have been changed into a letter using the function in the next code-block\n",
    "\n",
    "Student ID's and names have always been changed into the same actor. So if student X became Matt Damon in 20-21, the same student will be Matt Damon in 21-22.\n"
   ]
  },
  {
   "cell_type": "code",
   "execution_count": null,
   "metadata": {},
   "outputs": [],
   "source": [
    "# the function used to change the grades:\n",
    "\n",
    "def replace_grade(grade):\n",
    "    if grade in ['NA', '#']: # NA = student did not take exam, but could have and # = no exam\n",
    "        return grade\n",
    "    if grade == 'G': # Pass/fail-course, passed\n",
    "        return \"PASS\"\n",
    "    if grade == 'NG': # Pass/fail-course, not passed\n",
    "        return \"FAIL\"\n",
    "    grade = float(grade) # Grade is a number, so student took exam and got some grades\n",
    "    if grade == 0:\n",
    "        return 'ZERO'\n",
    "    if grade >= 17:\n",
    "        return 'A'\n",
    "    if grade >= 14:\n",
    "        return 'B'\n",
    "    if grade >= 10:\n",
    "        return 'C'\n",
    "    if grade >= 8: \n",
    "        return 'D'\n",
    "    return 'F'"
   ]
  },
  {
   "cell_type": "markdown",
   "metadata": {},
   "source": [
    "The files are all csv-files. You can open them as follows:"
   ]
  },
  {
   "cell_type": "code",
   "execution_count": null,
   "metadata": {},
   "outputs": [],
   "source": [
    "# todo"
   ]
  }
 ],
 "metadata": {
  "language_info": {
   "name": "python"
  },
  "orig_nbformat": 4
 },
 "nbformat": 4,
 "nbformat_minor": 2
}
