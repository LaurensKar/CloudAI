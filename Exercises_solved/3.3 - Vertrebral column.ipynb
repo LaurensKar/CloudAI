{
 "cells": [
  {
   "attachments": {},
   "cell_type": "markdown",
   "metadata": {},
   "source": [
    "# Vertrebral column dataset\n",
    "\n",
    "This lab is based in the AWS-course for machine learning foundations, module 3, section 1, third question:\n",
    "\n",
    "Question: Based on the biomechanical features, can you predict whether a patient has an abnormality (disk hernia or spondylolisthesis)?\n",
    "\n",
    "Why:\n",
    "* View statistics\n",
    "* Encode categorical data\n",
    "* Train and tune a model\n",
    "\n",
    "Citation\n",
    "\n",
    "Source: [UCI Vertebral column dataset](https://archive.ics.uci.edu/ml/datasets/vertebral%2Bcolumn)  _-> already downloaded!_\n",
    "\n",
    "Dua, D. and Graff, C. (2019). UCI Machine Learning Repository [http://archive.ics.uci.edu/ml]. Irvine, CA: University of California, School of Information and Computer Science. \n"
   ]
  },
  {
   "attachments": {},
   "cell_type": "markdown",
   "metadata": {},
   "source": [
    "Let's keep it short this time. Only import and encode categoricals.\n",
    "\n",
    "You have 2 files and 2 versions of every file: dat and arff. \"dat\" only has the abbreviated data, \"arff\" also contains the column name and the full name for the class. We'll be using the second file.\n",
    "\n",
    "You could this manually, but keep your history in mind: Python become the leading programming language because of the many, many open source libraries."
   ]
  },
  {
   "cell_type": "code",
   "execution_count": null,
   "metadata": {},
   "outputs": [],
   "source": [
    "import pandas as pd\n",
    "from scipy.io.arff import loadarff \n",
    "\n",
    "raw_data = loadarff('files/vertebral+column/column_2C_weka.arff')\n",
    "df = pd.DataFrame(raw_data[0])\n",
    "\n",
    "raw_data = loadarff('files/vertebral+column/column_3C_weka.arff')\n",
    "df = pd.concat([df, pd.DataFrame(raw_data[0])])\n",
    "\n",
    "# df.head()\n",
    "df.info()"
   ]
  },
  {
   "attachments": {},
   "cell_type": "markdown",
   "metadata": {},
   "source": [
    "Import works fine, but the class isn't strings, it's [bytes](https://stackoverflow.com/questions/6269765/what-does-the-b-character-do-in-front-of-a-string-literal). Fix that."
   ]
  },
  {
   "cell_type": "code",
   "execution_count": null,
   "metadata": {},
   "outputs": [],
   "source": [
    "df['class'] = df['class'].str.decode('utf-8')\n",
    "df[\"class\"].unique()"
   ]
  },
  {
   "attachments": {},
   "cell_type": "markdown",
   "metadata": {},
   "source": [
    "And turn it into a ordinal/nominal (delete as appropriate) categorical."
   ]
  },
  {
   "cell_type": "code",
   "execution_count": null,
   "metadata": {},
   "outputs": [],
   "source": [
    "from pandas.api.types import CategoricalDtype\n",
    "\n",
    "values = df[\"class\"].unique()\n",
    "df[\"class\"] = df[\"class\"].astype(CategoricalDtype(categories=values))\n",
    "\n",
    "df.info()"
   ]
  }
 ],
 "metadata": {
  "kernelspec": {
   "display_name": "venv",
   "language": "python",
   "name": "python3"
  },
  "language_info": {
   "codemirror_mode": {
    "name": "ipython",
    "version": 3
   },
   "file_extension": ".py",
   "mimetype": "text/x-python",
   "name": "python",
   "nbconvert_exporter": "python",
   "pygments_lexer": "ipython3",
   "version": "3.11.2"
  },
  "orig_nbformat": 4
 },
 "nbformat": 4,
 "nbformat_minor": 2
}
