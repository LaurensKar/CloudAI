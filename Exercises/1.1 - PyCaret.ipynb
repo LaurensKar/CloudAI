{
 "cells": [
  {
   "cell_type": "markdown",
   "metadata": {},
   "source": [
    "# PyCaret\n",
    "\n",
    "https://pycaret.org/\n",
    "\n",
    "There is low code for everything nowadays, so why not for AI. It can help you with\n",
    "\n",
    "\n",
    "* Exploratory Data Analysis\n",
    "* Data Preprocessing\n",
    "* Model Training\n",
    "* Model Explainability\n",
    "* MLOps\n",
    "\n",
    "So let's give it a test run.\n",
    "\n",
    "Make sure you setup your virtual environment before running this code. Quick reminder:\n",
    "\n",
    "```Shell\n",
    "python -m venv venv\n",
    "./venv/Scripts/activate\n",
    "```"
   ]
  },
  {
   "cell_type": "code",
   "execution_count": 4,
   "metadata": {},
   "outputs": [
    {
     "name": "stdout",
     "output_type": "stream",
     "text": [
      "Collecting pandas\n",
      "  Obtaining dependency information for pandas from https://files.pythonhosted.org/packages/b7/f8/32d6b5aa4c4bc045fa2c4c58f88c325facc54721956c6313f0afea8ea853/pandas-2.1.0-cp311-cp311-win_amd64.whl.metadata\n",
      "  Downloading pandas-2.1.0-cp311-cp311-win_amd64.whl.metadata (18 kB)\n",
      "Collecting numpy\n",
      "  Obtaining dependency information for numpy from https://files.pythonhosted.org/packages/72/b2/02770e60c4e2f7e158d923ab0dea4e9f146a2dbf267fec6d8dc61d475689/numpy-1.25.2-cp311-cp311-win_amd64.whl.metadata\n",
      "  Downloading numpy-1.25.2-cp311-cp311-win_amd64.whl.metadata (5.7 kB)\n",
      "Collecting python-dateutil>=2.8.2 (from pandas)\n",
      "  Using cached python_dateutil-2.8.2-py2.py3-none-any.whl (247 kB)\n",
      "Collecting pytz>=2020.1 (from pandas)\n",
      "  Obtaining dependency information for pytz>=2020.1 from https://files.pythonhosted.org/packages/32/4d/aaf7eff5deb402fd9a24a1449a8119f00d74ae9c2efa79f8ef9994261fc2/pytz-2023.3.post1-py2.py3-none-any.whl.metadata\n",
      "  Downloading pytz-2023.3.post1-py2.py3-none-any.whl.metadata (22 kB)\n",
      "Collecting tzdata>=2022.1 (from pandas)\n",
      "  Using cached tzdata-2023.3-py2.py3-none-any.whl (341 kB)\n",
      "Collecting six>=1.5 (from python-dateutil>=2.8.2->pandas)\n",
      "  Using cached six-1.16.0-py2.py3-none-any.whl (11 kB)\n",
      "Downloading pandas-2.1.0-cp311-cp311-win_amd64.whl (11.0 MB)\n",
      "   ---------------------------------------- 0.0/11.0 MB ? eta -:--:--\n",
      "   ---------------------------------------- 0.0/11.0 MB ? eta -:--:--\n",
      "   ---------------------------------------- 0.1/11.0 MB 3.2 MB/s eta 0:00:04\n",
      "   ---------------------------------------- 0.1/11.0 MB 2.6 MB/s eta 0:00:05\n",
      "   - -------------------------------------- 0.3/11.0 MB 2.9 MB/s eta 0:00:04\n",
      "   - -------------------------------------- 0.4/11.0 MB 2.5 MB/s eta 0:00:05\n",
      "   - -------------------------------------- 0.5/11.0 MB 3.1 MB/s eta 0:00:04\n",
      "   -- ------------------------------------- 0.7/11.0 MB 3.1 MB/s eta 0:00:04\n",
      "   --- ------------------------------------ 0.9/11.0 MB 3.2 MB/s eta 0:00:04\n",
      "   --- ------------------------------------ 1.0/11.0 MB 3.0 MB/s eta 0:00:04\n",
      "   ----- ---------------------------------- 1.5/11.0 MB 3.9 MB/s eta 0:00:03\n",
      "   ------ --------------------------------- 1.7/11.0 MB 4.1 MB/s eta 0:00:03\n",
      "   ------ --------------------------------- 1.9/11.0 MB 4.3 MB/s eta 0:00:03\n",
      "   ------- -------------------------------- 2.2/11.0 MB 4.3 MB/s eta 0:00:03\n",
      "   --------- ------------------------------ 2.5/11.0 MB 4.5 MB/s eta 0:00:02\n",
      "   ---------- ----------------------------- 2.8/11.0 MB 4.7 MB/s eta 0:00:02\n",
      "   ----------- ---------------------------- 3.2/11.0 MB 5.0 MB/s eta 0:00:02\n",
      "   ------------- -------------------------- 3.7/11.0 MB 5.4 MB/s eta 0:00:02\n",
      "   --------------- ------------------------ 4.3/11.0 MB 5.7 MB/s eta 0:00:02\n",
      "   ----------------- ---------------------- 4.9/11.0 MB 6.1 MB/s eta 0:00:02\n",
      "   ------------------- -------------------- 5.4/11.0 MB 6.4 MB/s eta 0:00:01\n",
      "   --------------------- ------------------ 5.9/11.0 MB 6.7 MB/s eta 0:00:01\n",
      "   ----------------------- ---------------- 6.4/11.0 MB 6.9 MB/s eta 0:00:01\n",
      "   ----------------------- ---------------- 6.4/11.0 MB 6.9 MB/s eta 0:00:01\n",
      "   ----------------------- ---------------- 6.4/11.0 MB 6.9 MB/s eta 0:00:01\n",
      "   ----------------------- ---------------- 6.6/11.0 MB 6.2 MB/s eta 0:00:01\n",
      "   ------------------------ --------------- 6.9/11.0 MB 6.3 MB/s eta 0:00:01\n",
      "   ------------------------ --------------- 6.9/11.0 MB 6.3 MB/s eta 0:00:01\n",
      "   ------------------------ --------------- 6.9/11.0 MB 6.3 MB/s eta 0:00:01\n",
      "   ------------------------- -------------- 7.1/11.0 MB 5.8 MB/s eta 0:00:01\n",
      "   --------------------------- ------------ 7.5/11.0 MB 5.9 MB/s eta 0:00:01\n",
      "   ----------------------------- ---------- 8.2/11.0 MB 6.3 MB/s eta 0:00:01\n",
      "   ------------------------------- -------- 8.8/11.0 MB 6.4 MB/s eta 0:00:01\n",
      "   --------------------------------- ------ 9.1/11.0 MB 6.5 MB/s eta 0:00:01\n",
      "   ----------------------------------- ---- 9.7/11.0 MB 6.7 MB/s eta 0:00:01\n",
      "   ------------------------------------- -- 10.3/11.0 MB 6.9 MB/s eta 0:00:01\n",
      "   -------------------------------------- - 10.7/11.0 MB 7.4 MB/s eta 0:00:01\n",
      "   ---------------------------------------  11.0/11.0 MB 8.0 MB/s eta 0:00:01\n",
      "   ---------------------------------------- 11.0/11.0 MB 7.8 MB/s eta 0:00:00\n",
      "Using cached numpy-1.25.2-cp311-cp311-win_amd64.whl (15.5 MB)\n",
      "Downloading pytz-2023.3.post1-py2.py3-none-any.whl (502 kB)\n",
      "   ---------------------------------------- 0.0/502.5 kB ? eta -:--:--\n",
      "   -------------------------------- ------ 419.8/502.5 kB 13.2 MB/s eta 0:00:01\n",
      "   --------------------------------------- 502.5/502.5 kB 10.5 MB/s eta 0:00:00\n",
      "Installing collected packages: pytz, tzdata, six, numpy, python-dateutil, pandas\n",
      "Successfully installed numpy-1.25.2 pandas-2.1.0 python-dateutil-2.8.2 pytz-2023.3.post1 six-1.16.0 tzdata-2023.3\n"
     ]
    }
   ],
   "source": [
    "!pip install pandas numpy\n",
    "!pip install pycaret"
   ]
  },
  {
   "cell_type": "markdown",
   "metadata": {},
   "source": [
    "A [quickstart](https://pycaret.gitbook.io/docs/get-started/quickstart) sounds nice."
   ]
  },
  {
   "cell_type": "markdown",
   "metadata": {},
   "source": []
  }
 ],
 "metadata": {
  "kernelspec": {
   "display_name": "venv",
   "language": "python",
   "name": "python3"
  },
  "language_info": {
   "codemirror_mode": {
    "name": "ipython",
    "version": 3
   },
   "file_extension": ".py",
   "mimetype": "text/x-python",
   "name": "python",
   "nbconvert_exporter": "python",
   "pygments_lexer": "ipython3",
   "version": "3.11.2"
  },
  "orig_nbformat": 4
 },
 "nbformat": 4,
 "nbformat_minor": 2
}
